{
 "cells": [
  {
   "cell_type": "code",
   "execution_count": null,
   "id": "initial_id",
   "metadata": {
    "collapsed": true
   },
   "outputs": [],
   "source": [
    "#! pip install git+https://github.com/pjarosik/pjtools.git\n",
    "import pickle\n",
    "from IPython.core.display import HTML\n",
    "from pjtools.visualization import create_animation"
   ]
  },
  {
   "metadata": {},
   "cell_type": "code",
   "outputs": [],
   "execution_count": null,
   "source": [
    "data = pickle.load(open(\"data.pkl\", \"rb\"))\n",
    "single_frame, rf_frames = zip(*data)\n",
    "\n",
    "anim = create_animation(rf_frames, value_range=(-100, 100))\n",
    "HTML(anim.to_jshtml())"
   ],
   "id": "3fbeb57b3ef1a51d"
  }
 ],
 "metadata": {
  "kernelspec": {
   "display_name": "Python 3",
   "language": "python",
   "name": "python3"
  },
  "language_info": {
   "codemirror_mode": {
    "name": "ipython",
    "version": 2
   },
   "file_extension": ".py",
   "mimetype": "text/x-python",
   "name": "python",
   "nbconvert_exporter": "python",
   "pygments_lexer": "ipython2",
   "version": "2.7.6"
  }
 },
 "nbformat": 4,
 "nbformat_minor": 5
}
