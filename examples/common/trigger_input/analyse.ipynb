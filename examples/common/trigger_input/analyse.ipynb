{
 "cells": [
  {
   "cell_type": "code",
   "execution_count": null,
   "id": "561e0eef-5969-40ae-baa4-6f15bf742510",
   "metadata": {},
   "outputs": [],
   "source": [
    "! pip install git+https://github.com/pjarosik/pjtools.git"
   ]
  },
  {
   "cell_type": "code",
   "execution_count": null,
   "id": "initial_id",
   "metadata": {},
   "outputs": [],
   "source": [
    "import pickle\n",
    "from IPython.core.display import HTML\n",
    "from pjtools.visualization import create_animation\n",
    "import numpy as np"
   ]
  },
  {
   "cell_type": "code",
   "execution_count": null,
   "id": "3fbeb57b3ef1a51d",
   "metadata": {},
   "outputs": [],
   "source": [
    "data = pickle.load(open(\"data_2024-12-09_16-58-31.pkl\", \"rb\"))\n",
    "single_frame, rf_frames = zip(*data)\n",
    "\n",
    "rf_frames = np.stack(rf_frames)\n",
    "rf_frames = rf_frames.squeeze()\n",
    "n_batches, n_tx, n_samples, n_rx = rf_frames.shape\n",
    "rf_frames = rf_frames.reshape(n_batches*n_tx, n_samples, n_rx)\n",
    "\n",
    "anim = create_animation(rf_frames[:, 750:1250, :], value_range=(-100, 100))\n",
    "HTML(anim.to_jshtml())"
   ]
  }
 ],
 "metadata": {
  "kernelspec": {
   "display_name": "Python 3 (ipykernel)",
   "language": "python",
   "name": "python3"
  },
  "language_info": {
   "codemirror_mode": {
    "name": "ipython",
    "version": 3
   },
   "file_extension": ".py",
   "mimetype": "text/x-python",
   "name": "python",
   "nbconvert_exporter": "python",
   "pygments_lexer": "ipython3",
   "version": "3.10.10"
  }
 },
 "nbformat": 4,
 "nbformat_minor": 5
}
