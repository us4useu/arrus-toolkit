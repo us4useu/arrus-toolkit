{
 "cells": [
  {
   "cell_type": "code",
   "execution_count": 1,
   "id": "0bbfdca6-5b2d-459c-8a88-a838eb4fc911",
   "metadata": {},
   "outputs": [
    {
     "data": {
      "text/plain": [
       "(128, 2, 2, 2, 2, 509)"
      ]
     },
     "execution_count": 1,
     "metadata": {},
     "output_type": "execute_result"
    }
   ],
   "source": [
    "import numpy as np\n",
    "from IPython.display import HTML\n",
    "data = np.load(\"hvps_measurements/hvps_measurements_666.npy\")\n",
    "data.shape"
   ]
  },
  {
   "cell_type": "code",
   "execution_count": 2,
   "id": "9ea321f2-cd08-4e4a-ad24-f11abb593c7e",
   "metadata": {},
   "outputs": [
    {
     "ename": "ImportError",
     "evalue": "cannot import name 'create_animation_1d' from 'pjtools.visualization' (C:\\Users\\us4us\\miniconda3_2\\envs\\py310\\lib\\site-packages\\pjtools\\visualization.py)",
     "output_type": "error",
     "traceback": [
      "\u001b[1;31m---------------------------------------------------------------------------\u001b[0m",
      "\u001b[1;31mImportError\u001b[0m                               Traceback (most recent call last)",
      "Cell \u001b[1;32mIn[2], line 1\u001b[0m\n\u001b[1;32m----> 1\u001b[0m \u001b[38;5;28;01mfrom\u001b[39;00m \u001b[38;5;21;01mpjtools\u001b[39;00m\u001b[38;5;21;01m.\u001b[39;00m\u001b[38;5;21;01mvisualization\u001b[39;00m \u001b[38;5;28;01mimport\u001b[39;00m create_animation_1d\n",
      "\u001b[1;31mImportError\u001b[0m: cannot import name 'create_animation_1d' from 'pjtools.visualization' (C:\\Users\\us4us\\miniconda3_2\\envs\\py310\\lib\\site-packages\\pjtools\\visualization.py)"
     ]
    }
   ],
   "source": [
    "from pjtools.visualization import create_animation_1d"
   ]
  },
  {
   "cell_type": "code",
   "execution_count": null,
   "id": "0486cde9-1afa-43dd-b5eb-902954eefcf3",
   "metadata": {},
   "outputs": [],
   "source": [
    "anim = create_animation_1d(data[:, 0, 0, 0, 1, :])\n",
    "HTML(anim.to_jshtml())"
   ]
  }
 ],
 "metadata": {
  "kernelspec": {
   "display_name": "Python 3 (ipykernel)",
   "language": "python",
   "name": "python3"
  },
  "language_info": {
   "codemirror_mode": {
    "name": "ipython",
    "version": 3
   },
   "file_extension": ".py",
   "mimetype": "text/x-python",
   "name": "python",
   "nbconvert_exporter": "python",
   "pygments_lexer": "ipython3",
   "version": "3.10.13"
  }
 },
 "nbformat": 4,
 "nbformat_minor": 5
}
