{
 "cells": [
  {
   "cell_type": "code",
   "execution_count": 46,
   "id": "65b872ca-ad25-4da6-a4e1-a7a21370c659",
   "metadata": {
    "tags": []
   },
   "outputs": [],
   "source": [
    "import scipy.io\n",
    "import numpy as np\n",
    "import scipy as sp\n",
    "import cupy as cp\n",
    "import matplotlib.pyplot as plt\n",
    "import os\n",
    "import time\n",
    "from SWE_utils_cupy_standalone import *\n",
    "from scipy.signal import firwin, butter, buttord, freqz\n",
    "\n",
    "from arrus.ops.us4r import *\n",
    "from arrus.ops.imaging import *\n",
    "from arrus.metadata import *\n",
    "from arrus.devices.probe import *\n",
    "from arrus.devices.us4r import Us4RDTO\n",
    "from arrus.utils.imaging import *"
   ]
  },
  {
   "cell_type": "code",
   "execution_count": 47,
   "id": "4d6c66cc-1baa-48d4-a4df-45390964a528",
   "metadata": {},
   "outputs": [
    {
     "name": "stdout",
     "output_type": "stream",
     "text": [
      "Device count: 1\n",
      "Device: b'GeForce RTX 3060 Laptop GPU' (cc 8.6)\n",
      "GPU clock frequency: 1425.0 MHz\n",
      "SM Count: 30\n",
      "Available memory: \n",
      "- global memory: 5946.5625 MiB\n",
      "- shared memory per thread block: 49152 B\n",
      "- constant memory: 65536 B\n"
     ]
    }
   ],
   "source": [
    "print(f\"Device count: {cp.cuda.runtime.getDeviceCount()}\")\n",
    "device_props = cp.cuda.runtime.getDeviceProperties(0)\n",
    "\n",
    "print(f\"Device: {device_props['name']} (cc {device_props['major']}.{device_props['minor']})\")\n",
    "print(f\"GPU clock frequency: {device_props['clockRate']/1e3} MHz\")\n",
    "print(f\"SM Count: {device_props['multiProcessorCount']}\")\n",
    "print(\"Available memory: \")\n",
    "print(f\"- global memory: {device_props['totalGlobalMem']/2**20} MiB\")\n",
    "print(f\"- shared memory per thread block: {device_props['sharedMemPerBlock']} B\")\n",
    "print(f\"- constant memory: {device_props['totalConstMem']} B\")"
   ]
  },
  {
   "cell_type": "markdown",
   "id": "0cdca21d-ff12-4c2b-bd6b-cd38e8966501",
   "metadata": {},
   "source": [
    "# Script parameters\n",
    "Configure the reconstruction parameters of individual steps of the algorithm"
   ]
  },
  {
   "cell_type": "code",
   "execution_count": 48,
   "id": "ec3a2d3a-d93f-43eb-8f15-d135ced26a8c",
   "metadata": {},
   "outputs": [],
   "source": [
    "# General settings\n",
    "dataset_id = 340\n",
    "directory  = '../Datasets'\n",
    "\n",
    "# Constants\n",
    "c              = 1540.0\n",
    "probe_elements = 128\n",
    "probe_pitch    = 0.298e-3\n",
    "fs             = 65e6\n",
    "\n",
    "# Sequence parameters\n",
    "pwi_txFreq   = 4.4e6\n",
    "pwi_nCycles  = 2\n",
    "pwi_txAngles = [-4.0, 0.0, 4.0]\n",
    "pwi_txPri    = 100e-6\n",
    "pwi_fri      = 2* pwi_txPri\n",
    "\n",
    "# RF Filter\n",
    "rf_filter_band        = [4e6, 7e6]    # Desired pass band, Hz\n",
    "rf_filter_trans_width = 1e6           # Width of transition from pass band to stop band, Hz\n",
    "rf_filter_numtaps     = 236           # Size of the FIR filter.\n",
    "\n",
    "# Post down conversion IQ filtering\n",
    "demod_filter_cutoff = 0.5 * 4.4e6       # Desired cutoff frequency, Hz\n",
    "demod_filter_trans_width = 0.5 * 4.4e6  # Width of transition from pass band to stop band, Hz\n",
    "demod_filter_numtaps = 128              # Size of the FIR filter.\n",
    "\n",
    "# Beamforming\n",
    "px_size = 0.2  # in [mm]\n",
    "x_grid = np.arange(-20, 20, px_size) * 1e-3\n",
    "z_grid = np.arange(0, 50, px_size)   * 1e-3\n",
    "\n",
    "# Shear wave detection\n",
    "swd_mode              = 'kasai'\n",
    "swd_zGate_length      = 4 \n",
    "swd_ensemble_length   = 4\n",
    "\n",
    "# Input parameters\n",
    "df_sws_range = [0.5, 4.0];\n",
    "df_f_range   = [40.0, 1000.0];\n",
    "df_k_range   = 0.9;\n",
    "\n",
    "# SWS estimation\n",
    "swse_interp_factor = 5;\n",
    "swse_interp_order  = 2\n",
    "swse_d             = 14;\n",
    "swse_frames        = [0, 99];\n",
    "swse_SWV_range     = [0.5, 4.0];\n",
    "swse_x_range       = [[0, 420], [0, 420]]\n",
    "swse_z_clip        = [5, 10]\n",
    "\n",
    "# Post-processing\n",
    "median_filter_size = 5\n"
   ]
  },
  {
   "cell_type": "markdown",
   "id": "e747cc67-c9c7-4d35-8ace-c8e6a0085d1e",
   "metadata": {},
   "source": [
    "## Load the dataset"
   ]
  },
  {
   "cell_type": "code",
   "execution_count": 49,
   "id": "69a7fc16-2f52-49f7-9bcc-fae8faca1476",
   "metadata": {},
   "outputs": [
    {
     "data": {
      "text/plain": [
       "(1, 150, 4224, 128)"
      ]
     },
     "execution_count": 49,
     "metadata": {},
     "output_type": "execute_result"
    }
   ],
   "source": [
    "# Load a dataset\n",
    "sid = 'id' + str(dataset_id)\n",
    "# Search for the file\n",
    "for root, dirs, files in os.walk(directory):\n",
    "    for file in files:\n",
    "        if sid in file:\n",
    "            file_path = os.path.join(root, file)\n",
    "            data = sp.io.loadmat(file_path)\n",
    "\n",
    "data[\"rf_data\"].shape\n",
    "rf = data[\"rf_data\"]\n",
    "rf = rf[np.newaxis, ...]\n",
    "Nframes = rf.shape[1]\n",
    "rf.shape"
   ]
  },
  {
   "cell_type": "markdown",
   "id": "14041e0e-49bb-48f6-a6ca-be416b97c158",
   "metadata": {},
   "source": [
    "# Beamforming"
   ]
  },
  {
   "cell_type": "markdown",
   "id": "ee1aac75-c3e4-4821-98b9-4271b2db13e8",
   "metadata": {},
   "source": [
    "### Design filters"
   ]
  },
  {
   "cell_type": "code",
   "execution_count": 50,
   "id": "6083ccc1-233e-4a7d-9640-507a1970a80c",
   "metadata": {},
   "outputs": [],
   "source": [
    "## Function to plot the filter response\n",
    "def plot_FIR_response(fs, taps, w, h):\n",
    "    \"Utility function to plot response functions\"\n",
    "    fig, (ax0, ax1, ax2) = plt.subplots(3, 1, figsize=(8, 9))\n",
    "    ax0.plot(range(len(taps)), taps)\n",
    "    ax0.set_xlabel(\"Tap\")\n",
    "    ax0.set_ylabel(\"Value\")\n",
    "    \n",
    "    ax1.plot(0.5*fs*w/np.pi, 20*np.log10(np.abs(h)))\n",
    "    ax1.set_ylim(-80, 5)\n",
    "    ax1.set_xlim(0, 0.5*fs)\n",
    "    ax1.grid(True)\n",
    "    ax1.set_xlabel('Frequency (Hz)')\n",
    "    ax1.set_ylabel('Gain (dB)')\n",
    "    \n",
    "    ax2.plot(0.5*fs*w/np.pi, np.angle(h))\n",
    "    ax2.set_xlim(0, 0.5*fs)\n",
    "    ax2.set_xlabel(\"Frequency (Hz)\")\n",
    "    ax2.set_ylabel(\"Phase (rad)\")\n",
    "\n",
    "## Design a band-pass FIR filter for RF filtering of raw channel data\n",
    "band = rf_filter_band                # Desired pass band, Hz\n",
    "trans_width = rf_filter_trans_width  # Width of transition from pass band to stop band, Hz\n",
    "numtaps = rf_filter_numtaps          # Size of the FIR filter.\n",
    "\n",
    "edges = [0, band[0] - trans_width, band[0], band[1], band[1] + trans_width, 0.5*fs]\n",
    "rf_fir_taps = signal.remez(numtaps, edges, [0, 1, 0], Hz=fs)\n",
    "if(0):\n",
    "    w, h = signal.freqz(rf_fir_taps, [1], worN=2000)\n",
    "    plot_FIR_response(fs, rf_fir_taps, w, h)\n",
    "\n",
    "## Design a low-pass FIR filter for filtering of down-conversion products\n",
    "# Specify the filter parameters    \n",
    "cutoff = demod_filter_cutoff            # Desired cutoff frequency, Hz\n",
    "trans_width = demod_filter_trans_width  # Width of transition from pass band to stop band, Hz\n",
    "numtaps = demod_filter_numtaps          # Size of the FIR filter.\n",
    "iq_fir_taps = signal.remez(numtaps, [0, cutoff, cutoff + trans_width, 0.5*fs], [1, 0], Hz=fs)\n",
    "if(0):\n",
    "    w, h = signal.freqz(iq_fir_taps, [1], worN=2000)\n",
    "    plot_FIR_response(fs, iq_fir_taps, w, h)           "
   ]
  },
  {
   "cell_type": "markdown",
   "id": "e8d1b45e-c17b-4bac-80ca-c618d54e9fb5",
   "metadata": {},
   "source": [
    "## Metadata"
   ]
  },
  {
   "cell_type": "code",
   "execution_count": 51,
   "id": "76e54af1-b82c-401d-b3fe-ea424bf5156b",
   "metadata": {},
   "outputs": [],
   "source": [
    "tx_angles = np.tile(pwi_txAngles, int(np.ceil(rf.shape[1]/len(pwi_txAngles))))*np.pi/180\n",
    "\n",
    "sequence = PwiSequence(\n",
    "    pulse=Pulse(center_frequency=pwi_txFreq, n_periods=pwi_nCycles, inverse=False),\n",
    "    rx_sample_range=(0, rf.shape[1]),\n",
    "    speed_of_sound=c, # [m/s],\n",
    "    angles=tx_angles,\n",
    "    pri=pwi_txPri\n",
    ")\n",
    "\n",
    "model=ProbeModel(\n",
    "    model_id=ProbeModelId(\"atl\", \"l7-4\"),\n",
    "    n_elements=probe_elements,\n",
    "    pitch=probe_pitch,\n",
    "    curvature_radius=0,\n",
    ")\n",
    "\n",
    "probe = ProbeDTO(\n",
    "    model=model\n",
    ")\n",
    "\n",
    "device=Us4RDTO(\n",
    "    sampling_frequency=fs,\n",
    "    probe=probe\n",
    ")\n",
    "\n",
    "context = arrus.metadata.FrameAcquisitionContext(\n",
    "    device=device, \n",
    "    sequence=sequence,\n",
    "    raw_sequence=None,\n",
    "    medium=None,\n",
    "    custom_data={})\n",
    "\n",
    "data_desc=EchoDataDescription(\n",
    "    sampling_frequency=fs,\n",
    ")\n",
    "\n",
    "metadata = ConstMetadata(context=context, data_desc=data_desc, input_shape=rf.shape, is_iq_data=False, dtype=np.int16, version=None)"
   ]
  },
  {
   "cell_type": "code",
   "execution_count": 52,
   "id": "c896349e-98e3-4306-ae9a-a201210afce1",
   "metadata": {},
   "outputs": [
    {
     "name": "stdout",
     "output_type": "stream",
     "text": [
      "Mon Mar 20 19:58:28 2023       \n",
      "+-----------------------------------------------------------------------------+\n",
      "| NVIDIA-SMI 460.91.03    Driver Version: 460.91.03    CUDA Version: 11.2     |\n",
      "|-------------------------------+----------------------+----------------------+\n",
      "| GPU  Name        Persistence-M| Bus-Id        Disp.A | Volatile Uncorr. ECC |\n",
      "| Fan  Temp  Perf  Pwr:Usage/Cap|         Memory-Usage | GPU-Util  Compute M. |\n",
      "|                               |                      |               MIG M. |\n",
      "|===============================+======================+======================|\n",
      "|   0  GeForce RTX 306...  Off  | 00000000:01:00.0  On |                  N/A |\n",
      "| N/A   48C    P8    20W /  N/A |   2429MiB /  5946MiB |      0%      Default |\n",
      "|                               |                      |                  N/A |\n",
      "+-------------------------------+----------------------+----------------------+\n",
      "                                                                               \n",
      "+-----------------------------------------------------------------------------+\n",
      "| Processes:                                                                  |\n",
      "|  GPU   GI   CI        PID   Type   Process name                  GPU Memory |\n",
      "|        ID   ID                                                   Usage      |\n",
      "|=============================================================================|\n",
      "|    0   N/A  N/A      1736      G   /usr/lib/xorg/Xorg                185MiB |\n",
      "|    0   N/A  N/A      1917      G   /usr/bin/gnome-shell               38MiB |\n",
      "|    0   N/A  N/A     10066      G   /usr/lib/firefox/firefox          143MiB |\n",
      "|    0   N/A  N/A     10912      C   ...bin/miniconda3/bin/python     2057MiB |\n",
      "+-----------------------------------------------------------------------------+\n",
      "WARNING: infoROM is corrupted at gpu 0000:01:00.0\n"
     ]
    }
   ],
   "source": [
    "! nvidia-smi"
   ]
  },
  {
   "cell_type": "markdown",
   "id": "a17d4d5b-7245-4918-a304-ca06ee1169a7",
   "metadata": {},
   "source": [
    "## Pipeline: RF Filtering, Down-conversion and Beamforming"
   ]
  },
  {
   "cell_type": "code",
   "execution_count": 53,
   "id": "b00e1420-17ff-4b3a-bbf5-fb39cf5b9697",
   "metadata": {},
   "outputs": [
    {
     "data": {
      "text/plain": [
       "deque([<arrus.metadata.ConstMetadata at 0x7fba9c14d520>])"
      ]
     },
     "execution_count": 53,
     "metadata": {},
     "output_type": "execute_result"
    }
   ],
   "source": [
    "# Define the processing pipeline\n",
    "processing = Pipeline(\n",
    "    steps=(\n",
    "        Transpose(axes=(0, 1, 3, 2)),\n",
    "        #BandpassFilter(),\n",
    "        FirFilter(taps=rf_fir_taps, num_pkg=None, filter_pkg=None),\n",
    "        #QuadratureDemodulation(),\n",
    "        #Decimation(filter_type=\"fir\", filter_coeffs=iq_fir_taps, decimation_factor=1),\n",
    "        #ReconstructLri(x_grid=x_grid, z_grid=z_grid),\n",
    "        #Squeeze(),\n",
    "    ),\n",
    "    placement=\"/GPU:0\"\n",
    ")\n",
    "\n",
    "# Prepare pipeline\n",
    "processing.prepare(metadata)\n"
   ]
  },
  {
   "cell_type": "code",
   "execution_count": 63,
   "id": "5d985079-8bea-4ad2-8b6e-e3d0ad94eeba",
   "metadata": {},
   "outputs": [
    {
     "name": "stdout",
     "output_type": "stream",
     "text": [
      "Mean latency [ms]:\n",
      "23.47891092300415\n",
      "Std dev: [ms]:\n",
      "1.2188522953220295\n"
     ]
    }
   ],
   "source": [
    "#%%time\n",
    "#Transfer data to GPU\n",
    "n = 100\n",
    "latency = np.zeros(n)\n",
    "for i in range(n):\n",
    "    start = time.time()\n",
    "    din = cp.asarray(rf)\n",
    "    cp.cuda.Stream.null.synchronize()\n",
    "    end = time.time()\n",
    "    latency[i] = 1000*(end-start)\n",
    "\n",
    "avg = np.mean(latency)\n",
    "sdev = np.std(latency) \n",
    "print('Mean latency [ms]:')\n",
    "print(avg)\n",
    "print('Std dev: [ms]:')\n",
    "print(sdev)"
   ]
  },
  {
   "cell_type": "code",
   "execution_count": 60,
   "id": "1963cafa-6b37-46c7-89a1-f20aef376096",
   "metadata": {},
   "outputs": [],
   "source": [
    "# Run the pipeline\n",
    "output = processing.process(din)"
   ]
  },
  {
   "cell_type": "code",
   "execution_count": null,
   "id": "3af4bbd4-e82f-42b8-a944-fac45bb9ad7c",
   "metadata": {},
   "outputs": [],
   "source": [
    "%%time\n",
    "n = 100\n",
    "start = time.time()\n",
    "for i in range(n):\n",
    "    hri_data_gpu = AngleCompounder.process(data=lri_data_gpu)\n",
    "cp.cuda.Stream.null.synchronize()\n",
    "end = time.time()\n",
    "print(f\"Average time: {1000*(end-start)/n} [ms]\")"
   ]
  },
  {
   "cell_type": "code",
   "execution_count": 10,
   "id": "3bf26fc4-5568-45be-97da-1049ae41ab91",
   "metadata": {},
   "outputs": [
    {
     "name": "stdout",
     "output_type": "stream",
     "text": [
      "(150, 200, 250)\n"
     ]
    }
   ],
   "source": [
    "lri_data_gpu = output[0]\n",
    "print(lri_data_gpu.shape)"
   ]
  },
  {
   "cell_type": "code",
   "execution_count": 11,
   "id": "344b75d5-f3b1-47be-a0ae-a74f83923fda",
   "metadata": {},
   "outputs": [
    {
     "name": "stdout",
     "output_type": "stream",
     "text": [
      "Mon Mar 20 19:38:18 2023       \n",
      "+-----------------------------------------------------------------------------+\n",
      "| NVIDIA-SMI 460.91.03    Driver Version: 460.91.03    CUDA Version: 11.2     |\n",
      "|-------------------------------+----------------------+----------------------+\n",
      "| GPU  Name        Persistence-M| Bus-Id        Disp.A | Volatile Uncorr. ECC |\n",
      "| Fan  Temp  Perf  Pwr:Usage/Cap|         Memory-Usage | GPU-Util  Compute M. |\n",
      "|                               |                      |               MIG M. |\n",
      "|===============================+======================+======================|\n",
      "|   0  GeForce RTX 306...  Off  | 00000000:01:00.0  On |                  N/A |\n",
      "| N/A   50C    P0    30W /  N/A |   2448MiB /  5946MiB |      0%      Default |\n",
      "|                               |                      |                  N/A |\n",
      "+-------------------------------+----------------------+----------------------+\n",
      "                                                                               \n",
      "+-----------------------------------------------------------------------------+\n",
      "| Processes:                                                                  |\n",
      "|  GPU   GI   CI        PID   Type   Process name                  GPU Memory |\n",
      "|        ID   ID                                                   Usage      |\n",
      "|=============================================================================|\n",
      "|    0   N/A  N/A      1736      G   /usr/lib/xorg/Xorg                185MiB |\n",
      "|    0   N/A  N/A      1917      G   /usr/bin/gnome-shell               38MiB |\n",
      "|    0   N/A  N/A     10066      G   /usr/lib/firefox/firefox          161MiB |\n",
      "|    0   N/A  N/A     10912      C   ...bin/miniconda3/bin/python     2057MiB |\n",
      "+-----------------------------------------------------------------------------+\n",
      "WARNING: infoROM is corrupted at gpu 0000:01:00.0\n"
     ]
    }
   ],
   "source": [
    "! nvidia-smi"
   ]
  },
  {
   "cell_type": "markdown",
   "id": "49301094-ea9d-4746-b610-8a5a1d7b06ee",
   "metadata": {},
   "source": [
    "### Angle compounding"
   ]
  },
  {
   "cell_type": "code",
   "execution_count": 12,
   "id": "44f93f3a-ba41-474b-83ce-5a2baa2ca92e",
   "metadata": {},
   "outputs": [],
   "source": [
    "# Compounding\n",
    "AngleCompounder = AngleCompounding(nAngles=len(pwi_txAngles))\n",
    "AngleCompounder.prepare()"
   ]
  },
  {
   "cell_type": "code",
   "execution_count": 45,
   "id": "fbf414fb-4424-4186-8a5d-d058358ba599",
   "metadata": {},
   "outputs": [
    {
     "name": "stdout",
     "output_type": "stream",
     "text": [
      "Average time: 0.8315229415893555 [ms]\n",
      "CPU times: user 84.2 ms, sys: 0 ns, total: 84.2 ms\n",
      "Wall time: 83.3 ms\n"
     ]
    }
   ],
   "source": [
    "%%time\n",
    "import time\n",
    "\n",
    "n = 100\n",
    "start = time.time()\n",
    "for i in range(n):\n",
    "    hri_data_gpu = AngleCompounder.process(data=lri_data_gpu)\n",
    "cp.cuda.Stream.null.synchronize()\n",
    "end = time.time()\n",
    "print(f\"Average time: {1000*(end-start)/n} [ms]\")"
   ]
  },
  {
   "cell_type": "code",
   "execution_count": 37,
   "id": "1b8388b1-3d62-4583-acbe-25b16dab7f05",
   "metadata": {},
   "outputs": [],
   "source": [
    "hri_data_gpu = AngleCompounder.process(data=lri_data_gpu)"
   ]
  },
  {
   "cell_type": "code",
   "execution_count": 32,
   "id": "51f93efd-98be-4748-af62-12e29eadfd9a",
   "metadata": {},
   "outputs": [
    {
     "name": "stdout",
     "output_type": "stream",
     "text": [
      "89.4 µs ± 0 ns per loop (mean ± std. dev. of 1 run, 100 loops each)\n"
     ]
    }
   ],
   "source": [
    "%%timeit -r 1 -n 100\n",
    "hri_data_gpu = AngleCompounder.process(data=lri_data_gpu)"
   ]
  },
  {
   "cell_type": "code",
   "execution_count": null,
   "id": "53613613-e8f4-4059-ab69-a6a175ce05be",
   "metadata": {},
   "outputs": [],
   "source": [
    "! nvidia-smi"
   ]
  },
  {
   "cell_type": "markdown",
   "id": "7ad58512-55dc-4aa3-aa64-63fc55ce542e",
   "metadata": {},
   "source": [
    "## B-mode display"
   ]
  },
  {
   "cell_type": "code",
   "execution_count": null,
   "id": "382118ee-17cf-4aee-9b01-960431d03c63",
   "metadata": {},
   "outputs": [],
   "source": [
    "BmodeGenerator = GenerateBmode()\n",
    "BmodeGenerator.prepare()\n",
    "Bmode = BmodeGenerator.process(data=hri_data_gpu[5, :, :]) # Done on GPU\n",
    "BmodeGenerator.plotHistogram(Bmode)\n",
    "BmodeGenerator.displayBmode(frame=Bmode, dB_range=[40, 80])\n"
   ]
  },
  {
   "cell_type": "markdown",
   "id": "0792717a-c06a-49b4-ba19-e9ab84e39790",
   "metadata": {},
   "source": [
    "## Shear wave detection"
   ]
  },
  {
   "cell_type": "code",
   "execution_count": null,
   "id": "453cf887-13bd-4cdd-86a3-d5735ec0cc26",
   "metadata": {},
   "outputs": [],
   "source": [
    "! nvidia-smi"
   ]
  },
  {
   "cell_type": "code",
   "execution_count": null,
   "id": "e4b77312-2fcc-42e5-86e1-8e4f6999a216",
   "metadata": {},
   "outputs": [],
   "source": [
    "del lri_data_gpu\n",
    "del processing\n",
    "cp._default_memory_pool.free_all_blocks()"
   ]
  },
  {
   "cell_type": "code",
   "execution_count": null,
   "id": "4dab0e3f-dcec-4f5a-9580-0471917abb09",
   "metadata": {},
   "outputs": [],
   "source": [
    "# Shear wave detection\n",
    "swd_mode              = 'kasai'\n",
    "swd_zGate_length      = 4 \n",
    "swd_ensemble_length   = 4"
   ]
  },
  {
   "cell_type": "code",
   "execution_count": null,
   "id": "6c54594e-a827-4907-ba47-3208edb350a2",
   "metadata": {},
   "outputs": [],
   "source": [
    "# Shear wave detection\n",
    "ShearDetector = ShearwaveDetection(mode=swd_mode, packet_size=swd_ensemble_length, z_gate=swd_zGate_length, frame_pri=pwi_fri, c=c, fc=pwi_txFreq, fs=fs)\n",
    "ShearDetector.prepare(c=c, frame_pri=200e-6, fs=65e6)"
   ]
  },
  {
   "cell_type": "code",
   "execution_count": null,
   "id": "5426286e-d487-42d5-a3c2-9cd18a47fa67",
   "metadata": {},
   "outputs": [],
   "source": [
    "print(hri_data_gpu.shape)"
   ]
  },
  {
   "cell_type": "code",
   "execution_count": null,
   "id": "bd11d271-ab1b-48fd-8bd5-c2714e14bbfe",
   "metadata": {},
   "outputs": [],
   "source": [
    "#%%timeit -r 10 -n 100\n",
    "ddata = ShearDetector.process(data=hri_data_gpu)"
   ]
  },
  {
   "cell_type": "code",
   "execution_count": null,
   "id": "99447704-f474-47ce-ad99-876260cf2512",
   "metadata": {},
   "outputs": [],
   "source": [
    "print(ddata.shape)"
   ]
  },
  {
   "cell_type": "code",
   "execution_count": null,
   "id": "d7099203-2944-478e-b305-f50237731ded",
   "metadata": {},
   "outputs": [],
   "source": [
    "del hri_data_gpu\n",
    "cp._default_memory_pool.free_all_blocks()"
   ]
  },
  {
   "cell_type": "code",
   "execution_count": null,
   "id": "4b97adf1-10d1-4236-9897-3cc23e21030e",
   "metadata": {
    "tags": []
   },
   "outputs": [],
   "source": [
    "# Visualize data\n",
    "ddata_cpu = ddata.get()\n",
    "getHistogram(data=ddata_cpu, Vrange = [-2.5e-3, 2.5e-3])\n",
    "print(ddata_cpu.shape)\n",
    "DrawShearWaveFrames(data=ddata_cpu, Vrange=[-2e-3, 4e-3], frames=[1, 4, 7, 10, 13, 16])"
   ]
  },
  {
   "cell_type": "markdown",
   "id": "bbbb78a1-07fd-45bd-9559-0e175f2c8893",
   "metadata": {},
   "source": [
    "## Shear wave motion data filtering"
   ]
  },
  {
   "cell_type": "code",
   "execution_count": null,
   "id": "f56b46f6-4552-4e7d-b9ac-9bb6b050954b",
   "metadata": {},
   "outputs": [],
   "source": [
    "print(ddata.shape)"
   ]
  },
  {
   "cell_type": "code",
   "execution_count": null,
   "id": "aadb580f-8335-46dd-8df3-dd6028be4e71",
   "metadata": {},
   "outputs": [],
   "source": [
    "# Shear wave motion data filtering in Fourier domain\n",
    "DirFilter = ShearwaveMotionDataFiltering(sws_range=df_sws_range, f_range=df_f_range, k_range=df_k_range)\n",
    "DirFilter.prepare(input_shape = ddata.shape, fs=1.0/pwi_fri)"
   ]
  },
  {
   "cell_type": "code",
   "execution_count": null,
   "id": "3e137d20-8403-4adc-a645-482facff73e7",
   "metadata": {},
   "outputs": [],
   "source": [
    "#%%timeit -r 10 -n 100\n",
    "ddata_f = DirFilter.process(data=ddata)"
   ]
  },
  {
   "cell_type": "code",
   "execution_count": null,
   "id": "7f961b61-7b11-4265-b718-0ffe964efb53",
   "metadata": {},
   "outputs": [],
   "source": [
    "print(ddata_f.shape)"
   ]
  },
  {
   "cell_type": "code",
   "execution_count": null,
   "id": "a6e51e40-918c-4f19-990f-f89d0394c55c",
   "metadata": {},
   "outputs": [],
   "source": [
    "! nvidia-smi"
   ]
  },
  {
   "cell_type": "code",
   "execution_count": null,
   "id": "325cd420-724e-4749-844f-98c1fac981b3",
   "metadata": {},
   "outputs": [],
   "source": [
    "# Free GPU memory\n",
    "del DirFilter\n",
    "del ShearDetector\n",
    "del ddata\n",
    "cp._default_memory_pool.free_all_blocks()"
   ]
  },
  {
   "cell_type": "code",
   "execution_count": null,
   "id": "d2d553b6-3490-4167-a583-5da41d2d6d30",
   "metadata": {},
   "outputs": [],
   "source": [
    "## Visualize results\n",
    "# Filter masks\n",
    "#DirFilter.plotFilterMasks()\n",
    "# Filtered motion data frames\n",
    "DrawShearWaveFrames(data=ddata_cpu,    Vrange=[-2e-3, 4e-3], frames=[1, 4, 7, 10, 13, 16])\n",
    "DrawShearWaveFrames(data=ddata_f[0].get(), Vrange=[-2e-3, 4e-3], frames=[1, 4, 7, 10, 13, 16])\n",
    "DrawShearWaveFrames(data=ddata_f[1].get(), Vrange=[-2e-3, 4e-3], frames=[1, 4, 7, 10, 13, 16])\n",
    "# Plot some profiles\n",
    "#%matplotlib widget\n",
    "#fig, ax = plt.subplots(1, 1, figsize=(8, 4))\n",
    "#ax.plot(np.squeeze(ddata_LR[200, 350-15, :]))\n",
    "#ax.plot(np.squeeze(ddata_LR[200, 350+15, :]))"
   ]
  },
  {
   "cell_type": "markdown",
   "id": "886ad826-80a6-4ce4-983b-cfd06dfc0976",
   "metadata": {},
   "source": [
    "## Local shear wave speed estimation"
   ]
  },
  {
   "cell_type": "code",
   "execution_count": null,
   "id": "aa56cfcf-6458-4bad-8f66-540123687dba",
   "metadata": {},
   "outputs": [],
   "source": [
    "# Overwrite parameters\n",
    "swse_interp_factor = 5;\n",
    "swse_interp_order  = 2\n",
    "swse_d             = 14;\n",
    "swse_frames        = [0, 99];\n",
    "swse_SWV_range     = [0.5, 4.0];\n",
    "swse_x_range       = [[0, 420], [0, 420]]\n",
    "swse_z_clip        = [5, 10]"
   ]
  },
  {
   "cell_type": "code",
   "execution_count": null,
   "id": "527b23da-9a8a-4c34-b47f-a56d0c363433",
   "metadata": {},
   "outputs": [],
   "source": [
    "dim = ddata_f.shape\n",
    "print(dim)\n",
    "SWS_Estimator = SWS_Estimation(x_range=swse_x_range, z_clip = swse_z_clip, frames_range = swse_frames,\n",
    "                               d=swse_d, fri = pwi_fri, interp_factor=swse_interp_factor, interp_order=swse_interp_order, \n",
    "                                px_pitch=px_size*1e-3, sws_range=swse_SWV_range)\n",
    "SWS_Estimator.prepare(input_shape = ddata_f.shape)\n"
   ]
  },
  {
   "cell_type": "code",
   "execution_count": null,
   "id": "3263a6d4-39c7-4cad-9e8a-49690c9d7e1b",
   "metadata": {},
   "outputs": [],
   "source": [
    "#%%timeit -r 1 -n 10\n",
    "SWV = SWS_Estimator.process(data=ddata_f)"
   ]
  },
  {
   "cell_type": "code",
   "execution_count": null,
   "id": "e81f885f-abe9-42c2-8ede-f351ba0e1582",
   "metadata": {},
   "outputs": [],
   "source": [
    "! nvidia-smi"
   ]
  },
  {
   "cell_type": "code",
   "execution_count": null,
   "id": "b01159e6-c10a-4c4c-933f-f0bfa5b79ef3",
   "metadata": {},
   "outputs": [],
   "source": [
    "#Visualize the results\n",
    "SWV_cpu = SWV.get()\n",
    "SWS_cpu = np.squeeze(SWV_cpu[0, ...])\n",
    "SWS_r_cpu = np.squeeze(SWV_cpu[1, ...])\n",
    "print()\n",
    "norm_sws = plt.Normalize(0, 5, True)\n",
    "norm_r   = plt.Normalize(0, 1, True)\n",
    "\n",
    "fig, axs = plt.subplots(nrows=2, ncols=2, figsize=(12, 8))\n",
    "axs[0,0].imshow(np.squeeze(SWS_cpu[0,:,:]), cmap='jet', norm=norm_sws)\n",
    "axs[0,0].set_title('SWS_LR [m/s]')\n",
    "\n",
    "axs[1,0].imshow(np.squeeze(SWS_r_cpu[0,:,:]), cmap='jet', norm=norm_r)\n",
    "axs[1,0].set_title('r_LR')\n",
    "\n",
    "axs[0,1].imshow(np.squeeze(SWS_cpu[1,:,:]), cmap='jet', norm=norm_sws)\n",
    "axs[0,1].set_title('SWS_RL [m/s]')\n",
    "\n",
    "axs[1,1].imshow(np.squeeze(SWS_r_cpu[1,:,:]), cmap='jet', norm=norm_r)\n",
    "axs[1,1].set_title('r_RL')\n"
   ]
  },
  {
   "cell_type": "code",
   "execution_count": null,
   "id": "d995ffa1-4c99-46bf-ba2a-069756a792fb",
   "metadata": {},
   "outputs": [],
   "source": [
    "del SWV\n",
    "cp._default_memory_pool.free_all_blocks()"
   ]
  },
  {
   "cell_type": "code",
   "execution_count": null,
   "id": "559f1b41-db0a-4e0f-aa8e-1a756171e486",
   "metadata": {},
   "outputs": [],
   "source": [
    "! nvidia-smi"
   ]
  },
  {
   "cell_type": "markdown",
   "id": "c14f395c-2f73-4a66-ba73-a58eb1fbeda3",
   "metadata": {},
   "source": [
    "# Post-processing"
   ]
  },
  {
   "cell_type": "markdown",
   "id": "dc438a7e-92ff-4a32-9e99-e31e0fda4736",
   "metadata": {},
   "source": [
    "## Image compounding"
   ]
  },
  {
   "cell_type": "code",
   "execution_count": null,
   "id": "098cf39e-f79d-4a5b-9619-90f02644570e",
   "metadata": {},
   "outputs": [],
   "source": [
    "SWS_Compounder = SWS_Compounding()\n",
    "SWS_Compounder.prepare()"
   ]
  },
  {
   "cell_type": "code",
   "execution_count": null,
   "id": "48bb34fa-eb1f-45d2-805f-4a825131bc62",
   "metadata": {},
   "outputs": [],
   "source": [
    "#%%timeit -r 10 -n 10\n",
    "SWSc = SWS_Compounder.process(SWV)"
   ]
  },
  {
   "cell_type": "code",
   "execution_count": null,
   "id": "23c1cdd6-1a90-415c-8ed3-2415f8eafe56",
   "metadata": {},
   "outputs": [],
   "source": [
    "# Visualize results\n",
    "SWSc_cpu  = SWSc.get()\n",
    "SWS_cpu = np.squeeze(SWSc_cpu[0, ...])\n",
    "SWS_r_cpu = np.squeeze(SWSc_cpu[1, ...])\n",
    "sws_range = [0.5, 4.0]\n",
    "norm_sws = plt.Normalize(0, 5.0, True)\n",
    "norm_r   = plt.Normalize(0, 2, True)\n",
    "\n",
    "fig, axs = plt.subplots(nrows=2, ncols=1, figsize=(12, 8))\n",
    "axs[0].imshow(np.squeeze(SWS_cpu), cmap='jet', norm=norm_sws)\n",
    "axs[0].set_title('SWS_LR [m/s]')\n",
    "\n",
    "axs[1].imshow(np.squeeze(SWS_r_cpu), cmap='jet', norm=norm_r)\n",
    "axs[1].set_title('r_LR')"
   ]
  },
  {
   "cell_type": "markdown",
   "id": "5638c5a9-f13c-4c65-820a-b37999439981",
   "metadata": {},
   "source": [
    "## Image filtering"
   ]
  },
  {
   "cell_type": "code",
   "execution_count": null,
   "id": "76f30be6-098d-4012-a2fd-ac3509623eae",
   "metadata": {},
   "outputs": [],
   "source": [
    "MedianFilter = MedianFiltering(kernel_size=5)\n",
    "MedianFilter.prepare()"
   ]
  },
  {
   "cell_type": "code",
   "execution_count": null,
   "id": "d0594ce5-3688-4fcb-81e6-fb56d7d1d42a",
   "metadata": {},
   "outputs": [],
   "source": [
    "#%%timeit -r 10 -n 10\n",
    "SWS_filtered = MedianFilter.process(SWSc)"
   ]
  },
  {
   "cell_type": "markdown",
   "id": "2e370110-d21e-4b9f-9b02-304d4cdf8c21",
   "metadata": {},
   "source": [
    "## Data presentation"
   ]
  },
  {
   "cell_type": "code",
   "execution_count": null,
   "id": "c6f0b8bc-b223-4651-a484-1d6ab80c63de",
   "metadata": {},
   "outputs": [],
   "source": [
    "#%%timeit -r 10 -n 10\n",
    "SWS_filtered_cpu = SWS_filtered[0].get()"
   ]
  },
  {
   "cell_type": "code",
   "execution_count": null,
   "id": "bd63a55b-7890-4cbe-a035-644b354bf9ef",
   "metadata": {},
   "outputs": [],
   "source": [
    "# Visualize SWS map\n",
    "plotSWSmap(data=SWS_filtered_cpu[:420, swse_d//2:-swse_d//2], px_size=px_size, tick_grid_size=[5, 5], sws_disp_range=[0, 5])"
   ]
  },
  {
   "cell_type": "code",
   "execution_count": null,
   "id": "bdda872a-0a7c-49ab-aca0-369de6fe5b5e",
   "metadata": {},
   "outputs": [],
   "source": []
  }
 ],
 "metadata": {
  "kernelspec": {
   "display_name": "Python 3 (ipykernel)",
   "language": "python",
   "name": "python3"
  },
  "language_info": {
   "codemirror_mode": {
    "name": "ipython",
    "version": 3
   },
   "file_extension": ".py",
   "mimetype": "text/x-python",
   "name": "python",
   "nbconvert_exporter": "python",
   "pygments_lexer": "ipython3",
   "version": "3.10.13"
  }
 },
 "nbformat": 4,
 "nbformat_minor": 5
}
