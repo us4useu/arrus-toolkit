{
 "cells": [
  {
   "cell_type": "code",
   "execution_count": 3,
   "id": "65b872ca-ad25-4da6-a4e1-a7a21370c659",
   "metadata": {
    "tags": []
   },
   "outputs": [],
   "source": [
    "import scipy.io\n",
    "import numpy as np\n",
    "import scipy as sp\n",
    "from scipy import signal\n",
    "import matplotlib.pyplot as plt\n",
    "import os\n",
    "\n",
    "import sys\n",
    "import math\n",
    "import pickle\n",
    "from scipy import special"
   ]
  },
  {
   "cell_type": "code",
   "execution_count": 4,
   "id": "ee3a0cfa-735a-49e4-ba37-b1f5239ee25e",
   "metadata": {},
   "outputs": [],
   "source": [
    "################## Functions ###########################\n",
    "def get_Bessel_Apodization(aperture, scale, pitch):\n",
    "    \"\"\"\n",
    "    This function return the Bessel beam apodization for linear array. It uses 1rd order bessel function.\n",
    "    aperture - number of elements to be used for a single beam (odd or even, odd reccomended)\n",
    "    scale - scaling factor for bessel function (typically in range of 800 - 2000).\n",
    "    pitch - transudecer elements pitch.\n",
    "    N_elem - number of probe elements\n",
    "    \"\"\"\n",
    "    odd = aperture % 2\n",
    "\n",
    "    # Find positions of the transducer elements\n",
    "    if(odd==1): # symmetric aperture\n",
    "        side_size = int(math.floor(aperture/2));\n",
    "        xdcr_L = [0] * side_size\n",
    "        xdcr_R = [0] * side_size\n",
    "        for i in range(side_size):\n",
    "            xdcr_L[i] = pitch*i - side_size*pitch\n",
    "            xdcr_R[i] = pitch + pitch*i\n",
    "        xdcr = xdcr_L + [0] + xdcr_R\n",
    "\n",
    "    else:    # assymetric\n",
    "        side_size = int(aperture/2);\n",
    "        shift = pitch/2.0;\n",
    "        xdcr_L = [0] * side_size\n",
    "        xdcr_R = [0] * side_size\n",
    "        for i in range(side_size):\n",
    "            xdcr_L[i] = pitch*i - side_size*pitch - shift\n",
    "            xdcr_R[i] = pitch + pitch*i + shift\n",
    "        xdcr = xdcr_L + xdcr_R\n",
    "\n",
    "    Y = [0] * len(xdcr)\n",
    "    for i in range(len(xdcr)):\n",
    "        Y[i] = special.jv(0, scale * xdcr[i])\n",
    "\n",
    "    return [Y, xdcr]\n",
    "\n",
    "def get_Tukey_Apodization(aperture, scale, pitch):\n",
    "    \n",
    "    odd = aperture % 2\n",
    "\n",
    "    # Find positions of the transducer elements\n",
    "    if(odd==1): # symmetric aperture\n",
    "        side_size = int(math.floor(aperture/2));\n",
    "        xdcr_L = [0] * side_size\n",
    "        xdcr_R = [0] * side_size\n",
    "        for i in range(side_size):\n",
    "            xdcr_L[i] = pitch*i - side_size*pitch\n",
    "            xdcr_R[i] = pitch + pitch*i\n",
    "        xdcr = xdcr_L + [0] + xdcr_R\n",
    "\n",
    "    else:    # assymetric\n",
    "        side_size = int(aperture/2);\n",
    "        shift = pitch/2.0;\n",
    "        xdcr_L = [0] * side_size\n",
    "        xdcr_R = [0] * side_size\n",
    "        for i in range(side_size):\n",
    "            xdcr_L[i] = pitch*i - side_size*pitch - shift\n",
    "            xdcr_R[i] = pitch + pitch*i + shift\n",
    "        xdcr = xdcr_L + xdcr_R\n",
    "        \n",
    "    w = sp.signal.windows.tukey(aperture, alpha=scale, sym=True)\n",
    "    return [w, xdcr]\n",
    "    \n",
    "\n",
    "def get_apodization_levels(fc):\n",
    "    \"\"\"\n",
    "    This function gets the possible apodization levels for given frequency.\n",
    "    In TXPB the apodization levels are discrete\n",
    "    fc - center frequency in [MHz]\n",
    "    Returns: [x, PWMs, Levels]\n",
    "    x - vector of possible number of states of each half-cycle active pulse\n",
    "    PWMs - PWM factors possible vector\n",
    "    Levels - apodization levels (normalized to 1)\n",
    "    \"\"\"\n",
    "    # Get number of states per half-cycle\n",
    "    fs = 195.0\n",
    "    N = int(round(fs/fc/2))\n",
    "\n",
    "    # Get the apodization levels\n",
    "    xt = [N];\n",
    "    a = N;\n",
    "    while(a>0):\n",
    "        a = a-2\n",
    "        if(a<0):\n",
    "            b = 0\n",
    "        else:\n",
    "            b = a\n",
    "        xt.append(b)\n",
    "\n",
    "    x = []\n",
    "    for i in range(len(xt)):\n",
    "        if(xt[i] >= 2):\n",
    "            x.append(xt[i])\n",
    "\n",
    "    x.append(0)\n",
    "    x.reverse()\n",
    "    N = float(N)\n",
    "    PWMs = [i / N for i in x]\n",
    "    arg =  [i*math.pi / 2.0 / N for i in x]\n",
    "    Levels = [math.sin(i) for i in arg]\n",
    "    return [x, PWMs, Levels]\n",
    "\n",
    "\n",
    "def get_aperture_apodization(apodization, fc):\n",
    "    \"\"\"\n",
    "    This function gets the possible apodization levels.\n",
    "    fc - center frequency in [MHz]\n",
    "    apodization - desired levels (range 0 - 1) of apodization.\n",
    "    Returns: a\n",
    "    a - vector of apodization that can be applied (quantized)\n",
    "    n - number of cycles per active state\n",
    "    \"\"\"\n",
    "    apodization =  [abs(i) for i in apodization]\n",
    "    [x, PWMs, Levels] = get_apodization_levels(fc)\n",
    "    a = [0] * len(apodization)\n",
    "    n = [0] * len(apodization)\n",
    "\n",
    "    # Find closest setting\n",
    "    for i in range(len(apodization)):\n",
    "        a[i] = Levels[0]\n",
    "        for j in range(len(Levels)):\n",
    "            if(abs(apodization[i]-a[i])>abs(apodization[i]-Levels[j])):\n",
    "                a[i] = Levels[j]\n",
    "                n[i] = x[j];\n",
    "\n",
    "    return [a, n]"
   ]
  },
  {
   "cell_type": "code",
   "execution_count": 5,
   "id": "bd8d1f44-946e-462a-a801-f81117c3839e",
   "metadata": {},
   "outputs": [],
   "source": [
    "################## Parameters ##########################\n",
    "fc = 4.4       # TX frequency [MHz]\n",
    "aperture = 35  # TX aperture number of elements\n",
    "scale = 1000   # Bessel Beam scale\n",
    "#optimize = 1   # Set to 1 if want to find scale to minimize error\n",
    "#scale_range = [1000, 1200]; # Scale range to be used for optimization\n",
    "#scale_step = 10"
   ]
  },
  {
   "cell_type": "code",
   "execution_count": 5,
   "id": "571a120b-46bc-467f-bc5d-dfe168dbea46",
   "metadata": {},
   "outputs": [
    {
     "name": "stdout",
     "output_type": "stream",
     "text": [
      "[0, 2, 4, 6, 8, 10, 12, 14, 16, 18, 20, 22]\n",
      "[0.0, 0.09090909090909091, 0.18181818181818182, 0.2727272727272727, 0.36363636363636365, 0.45454545454545453, 0.5454545454545454, 0.6363636363636364, 0.7272727272727273, 0.8181818181818182, 0.9090909090909091, 1.0]\n",
      "[0.0, 0.14231483827328514, 0.28173255684142967, 0.4154150130018864, 0.5406408174555976, 0.6548607339452851, 0.7557495743542583, 0.8412535328311811, 0.9096319953545183, 0.9594929736144974, 0.9898214418809327, 1.0]\n"
     ]
    }
   ],
   "source": [
    "[x, PWMs, Levels] = get_apodization_levels(4.4)\n",
    "print(x)\n",
    "print(PWMs)\n",
    "print(Levels)"
   ]
  },
  {
   "cell_type": "code",
   "execution_count": 6,
   "id": "b5ce7cf0-fa58-4475-9289-bb34e8cad87e",
   "metadata": {},
   "outputs": [
    {
     "name": "stdout",
     "output_type": "stream",
     "text": [
      "[-0.14231483827328514, -0.28173255684142967, -0.28173255684142967, -0.4154150130018864, -0.4154150130018864, -0.4154150130018864, -0.28173255684142967, -0.28173255684142967, -0.14231483827328514, 0.0, 0.14231483827328514, 0.28173255684142967, 0.5406408174555976, 0.6548607339452851, 0.8412535328311811, 0.9096319953545183, 0.9898214418809327, 1.0, 0.9898214418809327, 0.9096319953545183, 0.8412535328311811, 0.6548607339452851, 0.5406408174555976, 0.28173255684142967, 0.14231483827328514, 0.0, -0.14231483827328514, -0.28173255684142967, -0.28173255684142967, -0.4154150130018864, -0.4154150130018864, -0.4154150130018864, -0.28173255684142967, -0.28173255684142967, -0.14231483827328514]\n",
      "[2, 4, 4, 6, 6, 6, 4, 4, 2, 0, 2, 4, 8, 10, 14, 16, 20, 22, 20, 16, 14, 10, 8, 4, 2, 0, 2, 4, 4, 6, 6, 6, 4, 4, 2]\n"
     ]
    },
    {
     "data": {
      "image/png": "[encoded data removed]",
      "text/plain": [
       "<Figure size 432x288 with 1 Axes>"
      ]
     },
     "metadata": {
      "needs_background": "light"
     },
     "output_type": "display_data"
    }
   ],
   "source": [
    "Y, xdcr = get_Bessel_Apodization(aperture=aperture, scale=scale, pitch=0.000298)\n",
    "apods, n = get_aperture_apodization(Y, fc)\n",
    "\n",
    "\n",
    "for i in range(len(xdcr)):\n",
    "    if(Y[i]<0):\n",
    "        apods[i] = apods[i] * -1\n",
    "\n",
    "print(apods)\n",
    "print(n)\n",
    "\n",
    "fig, ax = plt.subplots()\n",
    "ax.plot(xdcr, Y, ':b', xdcr, apods, 'ob')\n",
    "ax.set(xlabel='xdcr', ylabel='Apodization', title='Bessel apodization')\n",
    "ax.grid()\n",
    "plt.show()"
   ]
  },
  {
   "cell_type": "code",
   "execution_count": 9,
   "id": "8847c6a9-6f3b-4cee-b6bd-5122f0f58270",
   "metadata": {},
   "outputs": [
    {
     "name": "stdout",
     "output_type": "stream",
     "text": [
      "[0.0, 0.0, 0.14231483827328514, 0.28173255684142967, 0.4154150130018864, 0.6548607339452851, 0.8412535328311811, 0.9096319953545183, 0.9898214418809327, 1.0, 1.0, 1.0, 1.0, 1.0, 1.0, 1.0, 1.0, 1.0, 1.0, 1.0, 1.0, 1.0, 1.0, 1.0, 1.0, 1.0, 0.9898214418809327, 0.9096319953545183, 0.8412535328311811, 0.6548607339452851, 0.4154150130018864, 0.28173255684142967, 0.14231483827328514, 0.0, 0.0]\n",
      "[0, 0, 2, 4, 6, 10, 14, 16, 20, 22, 22, 22, 22, 22, 22, 22, 22, 22, 22, 22, 22, 22, 22, 22, 22, 22, 20, 16, 14, 10, 6, 4, 2, 0, 0]\n"
     ]
    },
    {
     "data": {
      "image/png": "[encoded data removed]",
      "text/plain": [
       "<Figure size 432x288 with 1 Axes>"
      ]
     },
     "metadata": {
      "needs_background": "light"
     },
     "output_type": "display_data"
    }
   ],
   "source": [
    "Y, xdcr = get_Tukey_Apodization(aperture=aperture, scale=0.5, pitch=0.000298)\n",
    "apods, n = get_aperture_apodization(Y, fc)\n",
    "\n",
    "\n",
    "for i in range(len(xdcr)):\n",
    "    if(Y[i]<0):\n",
    "        apods[i] = apods[i] * -1\n",
    "\n",
    "print(apods)\n",
    "print(n)\n",
    "\n",
    "fig, ax = plt.subplots()\n",
    "ax.plot(xdcr, Y, ':b', xdcr, apods, 'ob')\n",
    "ax.set(xlabel='xdcr', ylabel='Apodization', title='Tukey apodization')\n",
    "ax.grid()\n",
    "plt.show()"
   ]
  },
  {
   "cell_type": "code",
   "execution_count": 1,
   "id": "90e026fb-020a-4d37-9442-d60f247dc9b3",
   "metadata": {},
   "outputs": [
    {
     "name": "stdout",
     "output_type": "stream",
     "text": [
      "2\n"
     ]
    }
   ],
   "source": [
    "A = [2]\n",
    "print(A[0])"
   ]
  },
  {
   "cell_type": "code",
   "execution_count": null,
   "id": "a065d8de-6142-4472-8d5c-477062d218cf",
   "metadata": {},
   "outputs": [],
   "source": []
  }
 ],
 "metadata": {
  "kernelspec": {
   "display_name": "Python 3 (ipykernel)",
   "language": "python",
   "name": "python3"
  },
  "language_info": {
   "codemirror_mode": {
    "name": "ipython",
    "version": 3
   },
   "file_extension": ".py",
   "mimetype": "text/x-python",
   "name": "python",
   "nbconvert_exporter": "python",
   "pygments_lexer": "ipython3",
   "version": "3.9.5"
  }
 },
 "nbformat": 4,
 "nbformat_minor": 5
}
