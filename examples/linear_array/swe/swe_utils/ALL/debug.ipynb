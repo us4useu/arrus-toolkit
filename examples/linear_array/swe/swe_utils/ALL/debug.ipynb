{
 "cells": [
  {
   "cell_type": "code",
   "execution_count": 1,
   "id": "65b872ca-ad25-4da6-a4e1-a7a21370c659",
   "metadata": {
    "tags": []
   },
   "outputs": [],
   "source": [
    "import scipy.io\n",
    "import numpy as np\n",
    "import scipy as sp\n",
    "import cupy as cp\n",
    "import matplotlib.pyplot as plt\n",
    "import os\n",
    "from SWE_utils_cupy_pipelined import *\n",
    "from scipy.signal import firwin, butter, buttord, freqz\n",
    "\n",
    "from arrus.ops.us4r import *\n",
    "from arrus.ops.imaging import *\n",
    "from arrus.metadata import *\n",
    "from arrus.devices.probe import *\n",
    "from arrus.devices.us4r import Us4RDTO\n",
    "from arrus.utils.imaging import *"
   ]
  },
  {
   "cell_type": "code",
   "execution_count": 3,
   "id": "484992d4-a8df-4571-8c2e-47dee37c5fad",
   "metadata": {},
   "outputs": [
    {
     "name": "stdout",
     "output_type": "stream",
     "text": [
      "Apertures:\n",
      "[29. 39. 48. 58. 68.]\n",
      "Max shifts:\n",
      "[14.5 19.5 24.  29.  34. ]\n"
     ]
    }
   ],
   "source": [
    "focus = np.array([15, 20, 25, 30, 35])  #[mm]\n",
    "f = 1.75 # funmber\n",
    "ap = np.ceil(focus / (f * 0.298))\n",
    "max_shift = ap / 2\n",
    "print('Apertures:')\n",
    "print(ap)\n",
    "print('Max shifts:')\n",
    "print(max_shift)"
   ]
  },
  {
   "cell_type": "markdown",
   "id": "5eac575c-c9f2-421a-a1c5-040334d2fd7e",
   "metadata": {},
   "source": [
    "killall python\n",
    "wyjmij/wloz wtyczke TB3\n",
    "\n",
    "Petla: \n",
    "\n",
    "for i in $(seq 0 10); do python swe_procedure-test1a.py --pb_freq 4.0 --pb_focus 15 --rep $i ; done\n",
    "\n",
    "\n",
    "for j in 15 16 17 18 19; do for i in $(seq 0 1); do python swe_procedure-test1a.py --pb_freq 4.0 --pb_focus $j --rep $i ; done ; done \n"
   ]
  },
  {
   "cell_type": "code",
   "execution_count": null,
   "id": "abbd726a-4923-4a62-bd47-d3d87a311b02",
   "metadata": {},
   "outputs": [],
   "source": [
    "size = [20, 21, 22]\n",
    "\n",
    "for i in size:\n",
    "    size_str = str(i)\n",
    "    ! python testgen.py --size size_str --rep 3"
   ]
  },
  {
   "cell_type": "markdown",
   "id": "a2c485dc-3b51-4f1a-b1d7-6d169f28dfda",
   "metadata": {},
   "source": [
    "## RF display"
   ]
  },
  {
   "cell_type": "code",
   "execution_count": null,
   "id": "4b37bbf3-ec9d-4b5c-a765-807c43056b2b",
   "metadata": {},
   "outputs": [],
   "source": [
    "%matplotlib widget"
   ]
  },
  {
   "cell_type": "code",
   "execution_count": null,
   "id": "343da91e-23fd-4081-8f92-87b16b15ec72",
   "metadata": {},
   "outputs": [],
   "source": [
    "# RF display\n",
    "data = sp.io.loadmat(\"./Datasets/Bmode_manual.mat\")\n",
    "rf= data[\"rf_data\"]\n",
    "print(rf.shape)\n",
    "data = np.squeeze(rf)\n",
    "data = np.abs(data)\n",
    "\n",
    "%matplotlib widget\n",
    "plt.imshow(data[50], vmin=-1000, vmax=1000)"
   ]
  },
  {
   "cell_type": "markdown",
   "id": "7ad58512-55dc-4aa3-aa64-63fc55ce542e",
   "metadata": {},
   "source": [
    "### B-mode display"
   ]
  },
  {
   "cell_type": "code",
   "execution_count": null,
   "id": "6b8d7168-4c3e-45a7-9b58-ac0cd5d5d737",
   "metadata": {
    "tags": []
   },
   "outputs": [],
   "source": [
    "data = sp.io.loadmat(\"./Parametric_tests/Test_1/bmode_freq4.0_foc25.0.mat\")\n",
    "lri= data[\"data\"]\n",
    "print(lri.shape)\n",
    "#lri = lri[5, :, :]\n",
    "print(lri.shape)\n",
    "lri = np.squeeze(lri)\n",
    "\n",
    "if(1):\n",
    "    #hri = np.mean(a=lri, axis=0)\n",
    "    #hri = np.squeeze(lri[41, :, :])\n",
    "    hri = lri\n",
    "\n",
    "    # Envelope detection\n",
    "    data = np.abs(hri)\n",
    "    # Log compression\n",
    "    data[data==0] = 10**-10\n",
    "    data = 20 * np.log10(data)\n",
    "\n",
    "    data_dim = data.shape\n",
    "    if(data_dim[1] > data_dim[0] ):\n",
    "        data = np.transpose(data, [1,0])\n",
    "\n",
    "    dB_range = [20, 84] \n",
    "    norm = plt.Normalize(dB_range[0], dB_range[1], True)\n",
    "    fig, ax0 = plt.subplots(1, 1, figsize=(8, 4))\n",
    "    #%matplotlib widget\n",
    "    ax0.imshow(data, cmap='gray', norm=norm)\n",
    "    ax0.set_title('Bmode [dB]')"
   ]
  },
  {
   "cell_type": "markdown",
   "id": "0792717a-c06a-49b4-ba19-e9ab84e39790",
   "metadata": {},
   "source": [
    "# Shear wave motion data"
   ]
  },
  {
   "cell_type": "code",
   "execution_count": null,
   "id": "4b97adf1-10d1-4236-9897-3cc23e21030e",
   "metadata": {
    "tags": []
   },
   "outputs": [],
   "source": [
    "data = sp.io.loadmat(\"./Parametric_tests/Test_1/swd_freq4.0_foc25.0.mat\")\n",
    "ddata_cpu= data[\"data\"]\n",
    "#print(ddata_cpu.dtype)\n",
    "#ddata_cpu = np.real(ddata_cpu)\n",
    "#ddata_cpu = np.abs(ddata_cpu)\n",
    "print(ddata_cpu.shape)\n",
    "print(ddata_cpu.dtype)\n",
    "\n",
    "getHistogram(data=ddata_cpu, Vrange = [-0.5e-3, 0.5e-3])\n",
    "DrawShearWaveFrames(data=ddata_cpu, Vrange=[-1e-3, 2e-3], frames=[1, 4, 7, 10, 13, 16])\n"
   ]
  },
  {
   "cell_type": "code",
   "execution_count": null,
   "id": "335f08a2-ff1e-4c04-8c85-e3834154376b",
   "metadata": {},
   "outputs": [],
   "source": [
    "# Plot some profiles\n",
    "%matplotlib widget\n",
    "fig, ax = plt.subplots(1, 1, figsize=(8, 4))\n",
    "plt.rcParams.update({'font.size': 22})"
   ]
  },
  {
   "cell_type": "code",
   "execution_count": null,
   "id": "58f91b07-6ff2-4e79-9634-c85f156c2002",
   "metadata": {},
   "outputs": [],
   "source": [
    "## Get spatio-temporal (sliced) frequency spectrum\n",
    "depth_limits = [100, 110]\n",
    "NFFT = [4096, 2048]\n",
    "slice_in = ddata_cpu[depth_limits[0]:depth_limits[1], :, :]\n",
    "\n",
    "def SW_spectralAnalysis_SpatioTemporal(data, depth_limits, NFFT):\n",
    "\n",
    "    # Averaging data along axial dimension\n",
    "    slice_in = np.squeeze(np.mean(data, axis=0))\n",
    "\n",
    "    # Do FFT2\n",
    "    slice_k = sp.fft.fft2(slice_in, s=NFFT)\n",
    "    slice_k = sp.fft.fftshift(slice_k)\n",
    "\n",
    "    # Normalize\n",
    "    X = np.abs(slice_k)\n",
    "    MaxX = np.max(X.flatten())\n",
    "    Xn = X/MaxX\n",
    "    \n",
    "    # Log compression\n",
    "    img = 20 * np.log10(Xn)\n",
    "    return img\n",
    "\n",
    "img = SW_spectralAnalysis_SpatioTemporal(data=slice_in, depth_limits=depth_limits, NFFT=NFFT)\n",
    "\n",
    "## Results presentation ##\n",
    "##  Spectral data\n",
    "%matplotlib widget\n",
    "plt.figure()\n",
    "plt.clf()\n",
    "plt.imshow(img+6.5, cmap='jet')\n",
    "    \n"
   ]
  },
  {
   "cell_type": "code",
   "execution_count": null,
   "id": "512454c8-a5ed-4fd7-b807-35f7a58b7e69",
   "metadata": {},
   "outputs": [],
   "source": [
    "# Obtain freq\n",
    "x = 1280\n",
    "fs = 5000\n",
    "NFFT_f = NFFT[1]\n",
    "xr = x - NFFT_f/2\n",
    "f = xr * fs/NFFT_f\n",
    "print(f)"
   ]
  },
  {
   "cell_type": "code",
   "execution_count": null,
   "id": "44887a35-7f9e-43b5-b46c-2e56f328425c",
   "metadata": {},
   "outputs": [],
   "source": [
    "## Results presentation ##\n",
    "## Motion data slice\n",
    "px_size=0.2 #[mm]\n",
    "pri = 0.2 #[ms]\n",
    "tick_grid_size=[5, 5] #[ms, mm]\n",
    "\n",
    "plt.figure()\n",
    "plt.clf()\n",
    "plt.imshow(slice_in, cmap='gray')\n",
    "plt.title('Spatio-temporal motion data slice')\n",
    "plt.xlabel(\"Slow-time [ms]\")\n",
    "plt.ylabel(\"x [mm]\")\n",
    "\n",
    "# Assign ticks\n",
    "dim = slice_in.shape\n",
    "y_grid = tick_grid_size[1]  #[mm]\n",
    "x_grid = tick_grid_size[0]  #[mm]\n",
    "\n",
    "m = int(dim[0]//2)\n",
    "a = np.arange(m, 0, -int(np.ceil(x_grid / px_size)))\n",
    "b = np.arange(m, dim[0]-1, int(np.ceil(x_grid / px_size)))\n",
    "yticks = np.concatenate((a[1:], b))\n",
    "yticks_labels = (yticks - m) * px_size\n",
    "yticks_labels = [str(int(x)) for x in yticks_labels]\n",
    "plt.yticks(yticks, yticks_labels)\n",
    "\n",
    "xticks  = np.arange(0, dim[1]-1, int(np.ceil(x_grid / pri))) \n",
    "xticks_labels = xticks * pri\n",
    "xticks_labels = [str(int(x)) for x in xticks_labels]\n",
    "plt.xticks(xticks, xticks_labels)\n"
   ]
  },
  {
   "cell_type": "code",
   "execution_count": null,
   "id": "be9fc97d-c756-4f98-a4f0-7e074610118c",
   "metadata": {},
   "outputs": [],
   "source": [
    "## Get temporal frequency spectrum\n",
    "\n",
    "data = ddata_cpu[85:125, 100:150, :]\n",
    "print(data.shape)\n",
    "Fs = 1/200e-6\n",
    "NFFT = 2048\n",
    "\n",
    "def SW_spectralAnalysis_SpatioTemporal(data, Fs, NFFT):\n",
    "\n",
    "    # Apply window function\n",
    "    N = data.shape[2]\n",
    "    w = sp.signal.windows.tukey(N, alpha=0.2, sym=True)\n",
    "    data_w = data * w\n",
    "\n",
    "    # Do fft\n",
    "    Hy = sp.fft.fft(data_w, NFFT)\n",
    "    P2 = np.abs(Hy/NFFT)\n",
    "    P1 = P2[:, :, 1:NFFT//2+1]\n",
    "    P1[:, :, 1:-1] = 2*P1[:, :, 1:-1]\n",
    "\n",
    "    # Average\n",
    "    Pmean = np.mean(P1, axis=0)\n",
    "    Pmean = np.mean(Pmean, axis=0)\n",
    "\n",
    "    #Plot\n",
    "    x_f = np.arange(0, NFFT//2, 1)\n",
    "    x_f = Fs*x_f/NFFT\n",
    "\n",
    "    M = np.max(Pmean)\n",
    "    Xn = Pmean/M\n",
    "    Pmean_dB = 20 * np.log10(Xn)\n",
    "    fig, ax = plt.subplots(1, 1, figsize=(8, 4))\n",
    "    ax.plot(x_f, Pmean_dB+3.5)\n",
    "    return\n",
    "\n",
    "SW_spectralAnalysis_SpatioTemporal(data=data, Fs=Fs, NFFT=NFFT)\n"
   ]
  },
  {
   "cell_type": "markdown",
   "id": "294fb2f1-fa12-4ffa-a70c-522ee7b85b68",
   "metadata": {},
   "source": [
    "## Post shear wave motion filtering data"
   ]
  },
  {
   "cell_type": "code",
   "execution_count": null,
   "id": "bafdeff5-9722-41ad-8bed-2881ae226f64",
   "metadata": {},
   "outputs": [],
   "source": [
    "data = sp.io.loadmat(\"./Datasets/swdf.mat\")\n",
    "ddata_cpu= data[\"data\"]\n",
    "print(ddata_cpu.shape)\n",
    "print(ddata_cpu.dtype)\n",
    "\n",
    "DrawShearWaveFrames(data=np.squeeze(ddata_cpu[0, ...]), Vrange=[-1e-3, 2e-3], frames=[1, 8, 15, 20, 26, 32])"
   ]
  },
  {
   "cell_type": "code",
   "execution_count": null,
   "id": "40520af6-9b4e-44cc-95e4-a969144813a1",
   "metadata": {},
   "outputs": [],
   "source": [
    "# Plot some profiles\n",
    "%matplotlib widget\n",
    "fig, ax = plt.subplots(1, 1, figsize=(8, 4))\n",
    "ax.plot(np.squeeze(ddata_cpu[0, 100, 150-15, :]))\n",
    "ax.plot(np.squeeze(ddata_cpu[0, 100, 150+15, :]))"
   ]
  },
  {
   "cell_type": "code",
   "execution_count": null,
   "id": "0fb836ac-9ac7-4bda-b820-efc170c50d6c",
   "metadata": {},
   "outputs": [],
   "source": [
    "## Get energy map\n",
    "ddataE = np.squeeze(ddata_cpu[0, 10:-20, ...])\n",
    "\n",
    "# Get avarage and delete it\n",
    "m = np.mean(ddataE, axis=2)\n",
    "ddataE = np.transpose(ddataE, [2,0,1])\n",
    "ddataE = np.subtract(ddataE, m)\n",
    "ddataE = np.transpose(ddataE, [1,2,0])\n",
    "E = np.power(ddataE, 2)\n",
    "E = np.squeeze(np.sum(E, 2))\n",
    "E = np.sqrt(E)\n",
    "\n",
    "norm = plt.Normalize(0, 0.002, True)\n",
    "fig, ax = plt.subplots(1, 1, figsize=(8, 4))\n",
    "print(E.shape)\n",
    "ax.imshow(E, cmap='jet', norm=norm)\n",
    "\n",
    "        "
   ]
  },
  {
   "cell_type": "code",
   "execution_count": null,
   "id": "c1ccbbd1-8c76-45db-8218-82c94e6f3e0e",
   "metadata": {},
   "outputs": [],
   "source": [
    "# Display energy map\n"
   ]
  },
  {
   "cell_type": "markdown",
   "id": "886ad826-80a6-4ce4-983b-cfd06dfc0976",
   "metadata": {},
   "source": [
    "## SWS data"
   ]
  },
  {
   "cell_type": "code",
   "execution_count": null,
   "id": "d38e4b56-d01a-417e-a03f-ffa06b9399cb",
   "metadata": {},
   "outputs": [],
   "source": [
    "data = sp.io.loadmat(\"./Parametric_tests/Test_1/sws_freq4.0_foc25.0_rep0.mat\")\n",
    "SWV_cpu= data[\"data\"]\n",
    "print(SWV_cpu.shape)\n",
    "print(SWV_cpu.dtype)\n"
   ]
  },
  {
   "cell_type": "code",
   "execution_count": null,
   "id": "b01159e6-c10a-4c4c-933f-f0bfa5b79ef3",
   "metadata": {},
   "outputs": [],
   "source": [
    "#Visualize the results (pre-compounding)\n",
    "SWS_cpu = np.squeeze(SWV_cpu[0, ...])\n",
    "SWS_r_cpu = np.squeeze(SWV_cpu[1, ...])\n",
    "print()\n",
    "norm_sws = plt.Normalize(0, 5, True)\n",
    "norm_r   = plt.Normalize(0, 1, True)\n",
    "\n",
    "fig, axs = plt.subplots(nrows=2, ncols=2, figsize=(12, 8))\n",
    "axs[0,0].imshow(np.squeeze(SWS_cpu[0,:,:]), cmap='jet', norm=norm_sws)\n",
    "axs[0,0].set_title('SWS_LR [m/s]')\n",
    "\n",
    "axs[1,0].imshow(np.squeeze(SWS_r_cpu[0,:,:]), cmap='jet', norm=norm_r)\n",
    "axs[1,0].set_title('r_LR')\n",
    "\n",
    "axs[0,1].imshow(np.squeeze(SWS_cpu[1,:,:]), cmap='jet', norm=norm_sws)\n",
    "axs[0,1].set_title('SWS_RL [m/s]')\n",
    "\n",
    "axs[1,1].imshow(np.squeeze(SWS_r_cpu[1,:,:]), cmap='jet', norm=norm_r)\n",
    "axs[1,1].set_title('r_RL')"
   ]
  },
  {
   "cell_type": "code",
   "execution_count": null,
   "id": "8a029365-3b0b-4c56-86e9-138e3fd6d923",
   "metadata": {},
   "outputs": [],
   "source": [
    "#Visualize the results (post-compounding)\n",
    "SWS_cpu = np.squeeze(SWV_cpu[0, ...])\n",
    "SWS_r_cpu = np.squeeze(SWV_cpu[1, ...])\n",
    "print()\n",
    "sws_range = [0.5, 4.0]\n",
    "norm_sws = plt.Normalize(0, 5.0, True)\n",
    "norm_r   = plt.Normalize(0, 2, True)\n",
    "\n",
    "fig, axs = plt.subplots(nrows=2, ncols=1, figsize=(12, 8))\n",
    "axs[0].imshow(np.squeeze(SWS_cpu), cmap='jet', norm=norm_sws)\n",
    "axs[0].set_title('SWS_LR [m/s]')\n",
    "\n",
    "axs[1].imshow(np.squeeze(SWS_r_cpu), cmap='jet', norm=norm_r)\n",
    "axs[1].set_title('r_LR')\n"
   ]
  },
  {
   "cell_type": "markdown",
   "id": "c14f395c-2f73-4a66-ba73-a58eb1fbeda3",
   "metadata": {},
   "source": [
    "# Post-processing"
   ]
  },
  {
   "cell_type": "markdown",
   "id": "dc438a7e-92ff-4a32-9e99-e31e0fda4736",
   "metadata": {},
   "source": [
    "## Image compounding"
   ]
  },
  {
   "cell_type": "code",
   "execution_count": null,
   "id": "23c1cdd6-1a90-415c-8ed3-2415f8eafe56",
   "metadata": {},
   "outputs": [],
   "source": [
    "# Visualize results\n",
    "SWSc_cpu  = SWSc.get()\n",
    "SWS = np.squeeze(SWSc_cpu[0])\n",
    "r   = np.squeeze(SWSc_cpu[1])\n",
    "norm_r   = plt.Normalize(0, 2, True)\n",
    "norm_sws = plt.Normalize(swse_SWV_range[0], swse_SWV_range[1], True)\n",
    "norm_sws = plt.Normalize(0, 5, True)\n",
    "\n",
    "fig, axs = plt.subplots(nrows=1, ncols=2, figsize=(8, 6))\n",
    "axs[0].imshow(np.squeeze(SWS), cmap='jet', norm=norm_sws)\n",
    "axs[0].set_title('SWSc [m/s]')\n",
    "\n",
    "axs[1].imshow(np.squeeze(r), cmap='jet', norm=norm_r)\n",
    "axs[1].set_title('r [m/s]')"
   ]
  },
  {
   "cell_type": "markdown",
   "id": "5638c5a9-f13c-4c65-820a-b37999439981",
   "metadata": {},
   "source": [
    "## Image filtering"
   ]
  },
  {
   "cell_type": "code",
   "execution_count": null,
   "id": "8c64c25a-48fa-4b9f-b28c-dff52bd12117",
   "metadata": {},
   "outputs": [],
   "source": [
    "# Visualize results\n",
    "SWSc_cpu  = SWSc.get()\n",
    "SWS = np.squeeze(SWSc_cpu[0])\n",
    "r   = np.squeeze(SWSc_cpu[1])\n",
    "norm_r   = plt.Normalize(0, 2, True)\n",
    "norm_sws = plt.Normalize(swse_SWV_range[0], swse_SWV_range[1], True)\n",
    "norm_sws = plt.Normalize(0, 5, True)\n",
    "\n",
    "fig, axs = plt.subplots(nrows=1, ncols=2, figsize=(8, 6))\n",
    "axs[0].imshow(np.squeeze(SWS), cmap='jet', norm=norm_sws)\n",
    "axs[0].set_title('SWSc [m/s]')\n",
    "\n",
    "axs[1].imshow(np.squeeze(r), cmap='jet', norm=norm_r)\n",
    "axs[1].set_title('r [m/s]')"
   ]
  },
  {
   "cell_type": "markdown",
   "id": "2e370110-d21e-4b9f-9b02-304d4cdf8c21",
   "metadata": {},
   "source": [
    "## Data presentation"
   ]
  },
  {
   "cell_type": "code",
   "execution_count": null,
   "id": "c6f0b8bc-b223-4651-a484-1d6ab80c63de",
   "metadata": {},
   "outputs": [],
   "source": [
    "# Get data from GPU\n",
    "SWSc_cpu  = SWSc.get()\n",
    "SWS = np.squeeze(SWSc_cpu[0])\n",
    "r   = np.squeeze(SWSc_cpu[1])"
   ]
  },
  {
   "cell_type": "code",
   "execution_count": null,
   "id": "bd63a55b-7890-4cbe-a035-644b354bf9ef",
   "metadata": {},
   "outputs": [],
   "source": [
    "# Visualize SWS map\n",
    "plotSWSmap(data=SWS[swse_z_clip[0]:-swse_z_clip[1], swse_d//2:-swse_d//2], px_size=px_size, tick_grid_size=[5, 5], sws_disp_range=[0, 5])\n",
    "plotSWSmap(data=r[swse_z_clip[0]:-swse_z_clip[1], swse_d//2:-swse_d//2], px_size=px_size, tick_grid_size=[5, 5], sws_disp_range=[0, 2])"
   ]
  }
 ],
 "metadata": {
  "kernelspec": {
   "display_name": "Python 3 (ipykernel)",
   "language": "python",
   "name": "python3"
  },
  "language_info": {
   "codemirror_mode": {
    "name": "ipython",
    "version": 3
   },
   "file_extension": ".py",
   "mimetype": "text/x-python",
   "name": "python",
   "nbconvert_exporter": "python",
   "pygments_lexer": "ipython3",
   "version": "3.10.13"
  }
 },
 "nbformat": 4,
 "nbformat_minor": 5
}
