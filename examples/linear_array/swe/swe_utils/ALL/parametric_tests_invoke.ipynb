{
 "cells": [
  {
   "cell_type": "code",
   "execution_count": null,
   "id": "65b872ca-ad25-4da6-a4e1-a7a21370c659",
   "metadata": {
    "tags": []
   },
   "outputs": [],
   "source": [
    "import scipy.io\n",
    "import numpy as np\n",
    "import scipy as sp\n",
    "import matplotlib.pyplot as plt\n",
    "import os\n",
    "import time"
   ]
  },
  {
   "cell_type": "markdown",
   "id": "80069cc8-1531-48c6-bb84-3024b143df75",
   "metadata": {},
   "source": [
    "## Test 1\n",
    "Push generation parameters: push frequency vs. {stiffness estimation accuracy, shear spectrum, głębokość obrazowania}\n",
    "\n",
    "push_type = pSWE, po lewej od ROI\n",
    "\n",
    "push_frequency = {4.0, 4.2, 4.4, 4.6, 4.8, 5.0, 5.2, 5.4, 5.6, 5.8, 6.0} us\n",
    "\n",
    "focus = {15, 20, 25, 30} what matches apertures={29. 39. 48. 58.}"
   ]
  },
  {
   "cell_type": "code",
   "execution_count": null,
   "id": "9725143f-fd8a-4bd9-815b-80e7b985e4b3",
   "metadata": {},
   "outputs": [],
   "source": [
    "! python swe_procedure-test1.py --pb_freq 4.0 --pb_focus 15 --pb_ap 29 --rep 0"
   ]
  },
  {
   "cell_type": "code",
   "execution_count": null,
   "id": "db7c454b-26d3-49e5-adc9-dd1aab6c668e",
   "metadata": {},
   "outputs": [],
   "source": [
    "#!/bin/bash\n",
    "set -e\n",
    "\n",
    "for i in $(seq 0 9)\n",
    "do \n",
    "\tpython swe_procedure-test1.py --pb_freq 4.0 --pb_focus 15 --pb_ap 29 --rep $i\n",
    "done  \n"
   ]
  },
  {
   "cell_type": "markdown",
   "id": "4261f6d9-d6c3-4531-ac3d-1fe063df20f2",
   "metadata": {},
   "source": [
    "## Test 2\n",
    "Push generation parameters: push length vs. {stiffness estimation accuracy, shear spectrum, głębokość obrazowania}\n",
    "\n",
    "push_type = pSWE, po lewej od ROI\n",
    "\n",
    "push_length = {50, 100, 150, 200, 250, 300, 350, 400, 450, 500, 550, 600, 650, 700} us\n",
    "\n",
    "push_frequency = best from test 1\n"
   ]
  },
  {
   "cell_type": "code",
   "execution_count": null,
   "id": "aba467ff-9556-4655-9c7a-447bd77ab5c7",
   "metadata": {},
   "outputs": [],
   "source": [
    "! python swe_procedure-test2.py --pb_length 50 --rep 0"
   ]
  },
  {
   "cell_type": "code",
   "execution_count": null,
   "id": "f90611ae-615b-474d-b913-fb073dd95dc6",
   "metadata": {},
   "outputs": [],
   "source": [
    "# Loop test\n"
   ]
  },
  {
   "cell_type": "markdown",
   "id": "8c8da852-f29c-46b6-b5e6-e4cca74510c6",
   "metadata": {},
   "source": [
    "# New tests"
   ]
  },
  {
   "cell_type": "code",
   "execution_count": null,
   "id": "2c4afee4-1900-415d-a705-b12ce4167d02",
   "metadata": {},
   "outputs": [],
   "source": [
    "# Test1 \n",
    "# zmienić path! \n",
    "#i inne parametry w skypcie testu!\n",
    "python swe_procedure-test1.py --pwiFreq 4.0 --pwiCycles 2 --pwiPri 100 -idx 0\n",
    "\n",
    "# Test2 \n",
    "# zmienić path! \n",
    "#i inne parametry w skypcie testu!\n",
    "python swe_procedure-test2.py --pwiFreq 4.0 --pwiCycles 2 --pwiPri 100 -idx 0\n",
    "\n",
    "# Test 3\n",
    "python swe_procedure-test345.py --pbFreq 4.0 --pbFoci 2 --pbLen 100 --pbAp 48 --idx 0"
   ]
  }
 ],
 "metadata": {
  "kernelspec": {
   "display_name": "Python 3 (ipykernel)",
   "language": "python",
   "name": "python3"
  },
  "language_info": {
   "codemirror_mode": {
    "name": "ipython",
    "version": 3
   },
   "file_extension": ".py",
   "mimetype": "text/x-python",
   "name": "python",
   "nbconvert_exporter": "python",
   "pygments_lexer": "ipython3",
   "version": "3.9.5"
  }
 },
 "nbformat": 4,
 "nbformat_minor": 5
}
