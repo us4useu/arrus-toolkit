{
 "cells": [
  {
   "cell_type": "code",
   "execution_count": null,
   "id": "d7106f7d-e67d-4be6-a1f6-e6a76963c1ce",
   "metadata": {},
   "outputs": [],
   "source": [
    "# only for the `create_animation` function\n",
    "!pip install git+https://github.com/pjarosik/pjtools"
   ]
  },
  {
   "cell_type": "code",
   "execution_count": null,
   "id": "933d0411-773a-4fa7-9ea5-cdb61c6e3d81",
   "metadata": {},
   "outputs": [],
   "source": [
    "import h5py\n",
    "import numpy as np\n",
    "from pjtools.visualization import create_animation\n",
    "from IPython.display import HTML"
   ]
  },
  {
   "cell_type": "code",
   "execution_count": null,
   "id": "c4f88645-39d9-453a-9adc-7522c05f2229",
   "metadata": {},
   "outputs": [],
   "source": [
    "filename = \"test_phantom_beamformed_dataset.h5\""
   ]
  },
  {
   "cell_type": "markdown",
   "id": "939ccf28-5b2c-49ef-8e25-933605b9599d",
   "metadata": {},
   "source": [
    "# RF data"
   ]
  },
  {
   "cell_type": "code",
   "execution_count": null,
   "id": "e4457fc8-8baf-413f-a49b-6d1eb5981901",
   "metadata": {},
   "outputs": [],
   "source": [
    "f = h5py.File(filename, \"r\")\n",
    "rfs = f[\"rf\"]\n",
    "rfs.shape # (number of frames, number of transmits, number of samples, number of RX elements)."
   ]
  },
  {
   "cell_type": "code",
   "execution_count": null,
   "id": "1a03f0cd-1212-4073-91d3-9e48705bdbde",
   "metadata": {},
   "outputs": [],
   "source": [
    "anim = create_animation(rfs[0, :, :600, :], value_range=(-100, 100), cmap=\"viridis\")\n",
    "HTML(anim.to_jshtml())"
   ]
  },
  {
   "cell_type": "markdown",
   "id": "0d86e873-ccf1-4552-9b6c-518205910278",
   "metadata": {},
   "source": [
    "# HRI/B-mode"
   ]
  },
  {
   "cell_type": "code",
   "execution_count": null,
   "id": "c5fbb22b-9f61-4411-b368-de70071739b2",
   "metadata": {},
   "outputs": [],
   "source": [
    "hri = f[\"hri\"]  \n",
    "n_frames, ny, nx, nz = hri.shape  # (number of frames, n pixels oy, ox, oz)\n",
    "hri.shape"
   ]
  },
  {
   "cell_type": "markdown",
   "id": "063c4141-5916-458f-9ac6-26619b01aece",
   "metadata": {},
   "source": [
    "Slice y = 0."
   ]
  },
  {
   "cell_type": "code",
   "execution_count": null,
   "id": "1ea6e1a8-4501-4f3a-bb68-e1b39cc24f68",
   "metadata": {},
   "outputs": [],
   "source": [
    "s = hri[:, ny//2, ...]  # (n frames, nx, nz)\n",
    "s = s.transpose(0, 2, 1)  # (n frames, nz, nx)\n",
    "bmodes = 20*np.log10(np.abs(s)+1e-9)\n",
    "anim = create_animation(bmodes, value_range=(20, 80), cmap=\"gray\")\n",
    "HTML(anim.to_jshtml())"
   ]
  }
 ],
 "metadata": {
  "kernelspec": {
   "display_name": "Python 3 (ipykernel)",
   "language": "python",
   "name": "python3"
  },
  "language_info": {
   "codemirror_mode": {
    "name": "ipython",
    "version": 3
   },
   "file_extension": ".py",
   "mimetype": "text/x-python",
   "name": "python",
   "nbconvert_exporter": "python",
   "pygments_lexer": "ipython3",
   "version": "3.10.13"
  }
 },
 "nbformat": 4,
 "nbformat_minor": 5
}
